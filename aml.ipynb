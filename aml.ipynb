{
 "cells": [
  {
   "cell_type": "code",
   "execution_count": 2,
   "metadata": {},
   "outputs": [
    {
     "name": "stdout",
     "output_type": "stream",
     "text": [
      "Found the config file in: /Users/jamescarpinter/depot/readydemo/config.json\n",
      "contosomanufacturing\n",
      "scottgu-all-hands\n",
      "eastus2\n",
      "2a779d6f-0806-4359-a6e8-f1fd57bb5dd7\n"
     ]
    }
   ],
   "source": [
    "# Configure workspace\n",
    "import os\n",
    "from azureml.core import Workspace\n",
    "\n",
    "ws = Workspace.from_config()\n",
    "print(ws.name, ws.resource_group, ws.location, ws.subscription_id, sep = '\\n')"
   ]
  },
  {
   "cell_type": "code",
   "execution_count": 3,
   "metadata": {},
   "outputs": [
    {
     "name": "stdout",
     "output_type": "stream",
     "text": [
      "Succeeded\n",
      "AmlCompute wait for completion finished\n",
      "Minimum number of nodes requested have been provisioned\n"
     ]
    }
   ],
   "source": [
    "# Setup compute\n",
    "from azureml.core.compute import ComputeTarget, AmlCompute\n",
    "from azureml.core.compute_target import ComputeTargetException\n",
    "\n",
    "# Choose a name for your GPU cluster\n",
    "cluster_name = \"gpucluster\"\n",
    "\n",
    "# Verify that cluster does not exist already\n",
    "try:\n",
    "    gpu_cluster = ComputeTarget(workspace = ws, name = cluster_name)\n",
    "except ComputeTargetException:\n",
    "    compute_config = AmlCompute.provisioning_configuration(vm_size='STANDARD_NC6',\n",
    "                                                           min_nodes=0,\n",
    "                                                           max_nodes=4)\n",
    "    gpu_cluster = ComputeTarget.create(ws, cluster_name, compute_config)\n",
    "\n",
    "gpu_cluster.wait_for_completion(show_output=True)"
   ]
  },
  {
   "cell_type": "code",
   "execution_count": 4,
   "metadata": {},
   "outputs": [],
   "source": [
    "# Configure experiment\n",
    "from azureml.core import Experiment\n",
    "\n",
    "experiment_name = 'hard-hat'\n",
    "exp = Experiment(workspace=ws, name=experiment_name)"
   ]
  },
  {
   "cell_type": "code",
   "execution_count": 5,
   "metadata": {},
   "outputs": [
    {
     "name": "stderr",
     "output_type": "stream",
     "text": [
      "Target already exists. Skipping upload for val.record-00005-of-00010\n",
      "Target already exists. Skipping upload for val.record-00004-of-00010\n",
      "Target already exists. Skipping upload for model.ckpt.meta\n",
      "Target already exists. Skipping upload for train.record-00009-of-00010\n",
      "Target already exists. Skipping upload for train.record-00008-of-00010\n",
      "Target already exists. Skipping upload for train.record-00003-of-00010\n",
      "Target already exists. Skipping upload for train.record-00002-of-00010\n",
      "Target already exists. Skipping upload for label_map.pbtxt\n",
      "Target already exists. Skipping upload for .gitkeep\n",
      "Target already exists. Skipping upload for val.record-00002-of-00010\n",
      "Target already exists. Skipping upload for val.record-00003-of-00010\n",
      "Target already exists. Skipping upload for val.record-00008-of-00010\n",
      "Target already exists. Skipping upload for val.record-00009-of-00010\n",
      "Target already exists. Skipping upload for train.record-00004-of-00010\n",
      "Target already exists. Skipping upload for train.record-00005-of-00010\n",
      "Target already exists. Skipping upload for train.record-00000-of-00010\n",
      "Target already exists. Skipping upload for train.record-00001-of-00010\n",
      "Target already exists. Skipping upload for val.record-00006-of-00010\n",
      "Target already exists. Skipping upload for val.record-00007-of-00010\n",
      "Target already exists. Skipping upload for train.record-00007-of-00010\n",
      "Target already exists. Skipping upload for train.record-00006-of-00010\n",
      "Target already exists. Skipping upload for val.record-00001-of-00010\n",
      "Target already exists. Skipping upload for val.record-00000-of-00010\n",
      "Target already exists. Skipping upload for model.ckpt.index\n",
      "Target already exists. Skipping upload for model.ckpt.data-00000-of-00001\n"
     ]
    },
    {
     "data": {
      "text/plain": [
       "$AZUREML_DATAREFERENCE_workspaceblobstore"
      ]
     },
     "execution_count": 5,
     "metadata": {},
     "output_type": "execute_result"
    }
   ],
   "source": [
    "# Prepare data\n",
    "ds = ws.get_default_datastore()\n",
    "ds.upload('./data')"
   ]
  },
  {
   "cell_type": "code",
   "execution_count": 6,
   "metadata": {},
   "outputs": [
    {
     "data": {
      "text/html": [
       "<table style=\"width:100%\"><tr><th>Experiment</th><th>Id</th><th>Type</th><th>Status</th><th>Details Page</th><th>Docs Page</th></tr><tr><td>hard-hat</td><td>hard-hat_1549667969_34884894</td><td>azureml.scriptrun</td><td>Queued</td><td><a href=\"https://mlworkspace.azure.ai/portal/subscriptions/2a779d6f-0806-4359-a6e8-f1fd57bb5dd7/resourceGroups/scottgu-all-hands/providers/Microsoft.MachineLearningServices/workspaces/contosomanufacturing/experiments/hard-hat/runs/hard-hat_1549667969_34884894\" target=\"_blank\" rel=\"noopener\">Link to Azure Portal</a></td><td><a href=\"https://docs.microsoft.com/en-us/python/api/azureml-core/azureml.core.script_run.ScriptRun?view=azure-ml-py\" target=\"_blank\" rel=\"noopener\">Link to Documentation</a></td></tr></table>"
      ],
      "text/plain": [
       "Run(Experiment: hard-hat,\n",
       "Id: hard-hat_1549667969_34884894,\n",
       "Type: azureml.scriptrun,\n",
       "Status: Queued)"
      ]
     },
     "execution_count": 6,
     "metadata": {},
     "output_type": "execute_result"
    }
   ],
   "source": [
    "# Submit the experiment\n",
    "os.chdir('./train')\n",
    "\n",
    "from azureml.core import Run\n",
    "from azureml.train.dnn import TensorFlow\n",
    "from azureml.core.runconfig import AzureContainerRegistry, DockerEnvironment, EnvironmentDefinition, PythonEnvironment\n",
    "\n",
    "registry = AzureContainerRegistry()\n",
    "registry.address = 'contosomanufac5523805767.azurecr.io'\n",
    "registry.username = 'contosomanufac5523805767'\n",
    "registry.password = 'RC+cx6OiEhgK8MY1rSGkkaj8eYnGncNC'\n",
    "\n",
    "docker_config = DockerEnvironment()\n",
    "docker_config.enabled = True\n",
    "docker_config.base_image = 'contosoml/base-gpu:0.2.1'\n",
    "docker_config.base_image_registry = registry\n",
    "docker_config.gpu_support = True\n",
    "\n",
    "python_config = PythonEnvironment()\n",
    "python_config.user_managed_dependencies = True\n",
    "\n",
    "env_def = EnvironmentDefinition()\n",
    "env_def.docker = docker_config\n",
    "env_def.python = python_config\n",
    "\n",
    "script_params = {\n",
    "    '--model_dir': './outputs',\n",
    "    '--pipeline_config_path': './faster_rcnn_resnet101_hardhats.config'\n",
    "}\n",
    "\n",
    "tf_est = TensorFlow(source_directory = './src',\n",
    "                    script_params=script_params,\n",
    "                    compute_target=gpu_cluster,\n",
    "                    entry_script='train.py',\n",
    "                    inputs=[ds.as_download(path_on_compute='/data')],\n",
    "                    environment_definition=env_def)\n",
    "run = exp.submit(tf_est)\n",
    "\n",
    "os.chdir('..')\n",
    "\n",
    "run"
   ]
  },
  {
   "cell_type": "code",
   "execution_count": null,
   "metadata": {},
   "outputs": [],
   "source": [
    "run.wait_for_completion(show_output=True)"
   ]
  },
  {
   "cell_type": "code",
   "execution_count": 7,
   "metadata": {},
   "outputs": [
    {
     "name": "stdout",
     "output_type": "stream",
     "text": [
      "Registering model frozen_inference_graph.pb\n"
     ]
    }
   ],
   "source": [
    "# Prepare model\n",
    "from azureml.core.model import Model\n",
    "from azureml.core.run import Run\n",
    "\n",
    "# Register the model for deployment\n",
    "model = Model.register(model_path = \"./models/frozen_inference_graph.pb\",\n",
    "                       model_name = \"frozen_inference_graph.pb\",\n",
    "                       description = \"Contoso Manufacturing model\",\n",
    "                       workspace = ws)"
   ]
  },
  {
   "cell_type": "code",
   "execution_count": 8,
   "metadata": {},
   "outputs": [
    {
     "name": "stdout",
     "output_type": "stream",
     "text": [
      "SucceededProvisioning operation finished, operation \"Succeeded\"\n"
     ]
    }
   ],
   "source": [
    "# Create an AKS cluster\n",
    "from azureml.core.compute import AksCompute, ComputeTarget\n",
    "aks_cluster_name = 'contoso-aks'\n",
    "\n",
    "# Use the default configuration (can also provide parameters to customize)\n",
    "prov_config = AksCompute.provisioning_configuration(location='eastus2')\n",
    "\n",
    "# Create the cluster\n",
    "aks_target = ComputeTarget.create(workspace=ws, \n",
    "                                  name=aks_cluster_name, \n",
    "                                  provisioning_configuration=prov_config)\n",
    "\n",
    "aks_target.wait_for_completion(True)"
   ]
  },
  {
   "cell_type": "code",
   "execution_count": 9,
   "metadata": {},
   "outputs": [
    {
     "name": "stdout",
     "output_type": "stream",
     "text": [
      "Creating image\n"
     ]
    },
    {
     "data": {
      "text/plain": [
       "ContainerImage(workspace=<azureml.core.workspace.Workspace object at 0x12018f898>, name=contosoimage, id=contosoimage:18, tags={}, properties={}, version=18)"
      ]
     },
     "execution_count": 9,
     "metadata": {},
     "output_type": "execute_result"
    }
   ],
   "source": [
    "# Create a container image\n",
    "os.chdir('./score')\n",
    "\n",
    "from azureml.core.model import Model\n",
    "from azureml.core.image import ContainerImage\n",
    "\n",
    "model = Model.list(ws, name='frozen_inference_graph.pb')[0]\n",
    "\n",
    "image_config = ContainerImage.image_configuration(execution_script='score.py',\n",
    "                                                  runtime='python',\n",
    "                                                  conda_file='score.yml',\n",
    "                                                  description='Object detection model')\n",
    "\n",
    "image = ContainerImage.create(name='contosoimage',\n",
    "                              models=[model],\n",
    "                              image_config=image_config,\n",
    "                              workspace=ws)\n",
    "\n",
    "os.chdir('..')\n",
    "\n",
    "image"
   ]
  },
  {
   "cell_type": "code",
   "execution_count": null,
   "metadata": {},
   "outputs": [],
   "source": [
    "image.wait_for_creation(show_output = True)"
   ]
  },
  {
   "cell_type": "code",
   "execution_count": 10,
   "metadata": {},
   "outputs": [
    {
     "name": "stdout",
     "output_type": "stream",
     "text": [
      "Creating service\n"
     ]
    },
    {
     "data": {
      "text/plain": [
       "<azureml.core.webservice.aks.AksWebservice at 0x10fd63438>"
      ]
     },
     "execution_count": 10,
     "metadata": {},
     "output_type": "execute_result"
    }
   ],
   "source": [
    "# Deploy the model as a service\n",
    "from azureml.core.webservice import Webservice, AksWebservice\n",
    "\n",
    "image = next((x for x in ContainerImage.list(ws, image_name='contosoimage') if x.creation_state == 'Succeeded'), None)\n",
    "\n",
    "aks_service_name = 'contosoman'\n",
    "aks_config = AksWebservice.deploy_configuration(collect_model_data=True, enable_app_insights=True)\n",
    "aks_service = Webservice.deploy_from_image(workspace=ws, \n",
    "                                           name=aks_service_name,\n",
    "                                           image=image,\n",
    "                                           deployment_config=aks_config,\n",
    "                                           deployment_target=aks_target)\n",
    "aks_service"
   ]
  },
  {
   "cell_type": "code",
   "execution_count": null,
   "metadata": {},
   "outputs": [],
   "source": [
    "aks_service.wait_for_deployment(show_output=True)"
   ]
  },
  {
   "cell_type": "code",
   "execution_count": 11,
   "metadata": {},
   "outputs": [],
   "source": [
    "# Test the service\n",
    "os.chdir('./score')\n",
    "\n",
    "import requests\n",
    "from azureml.core.webservice import Webservice, AksWebservice\n",
    "\n",
    "image = open('./samples/Before.jpg', 'rb')\n",
    "input_data = image.read()\n",
    "image.close()\n",
    "\n",
    "aks_service_name = 'contosoman2'\n",
    "aks_service = AksWebservice(workspace=ws, name=aks_service_name)\n",
    "\n",
    "auth = 'Bearer ' + aks_service.get_keys()[0]\n",
    "uri = aks_service.scoring_uri\n",
    "\n",
    "res = requests.post(url=uri,\n",
    "                    data=input_data,\n",
    "                    headers={'Authorization': auth, 'Content-Type': 'application/octet-stream'})\n",
    "\n",
    "results = res.json()\n",
    "\n",
    "os.chdir('..')"
   ]
  },
  {
   "cell_type": "code",
   "execution_count": 12,
   "metadata": {},
   "outputs": [
    {
     "data": {
      "text/plain": [
       "<matplotlib.image.AxesImage at 0x135400c18>"
      ]
     },
     "execution_count": 12,
     "metadata": {},
     "output_type": "execute_result"
    }
   ],
   "source": [
    "# Show the results\n",
    "os.chdir('./score')\n",
    "\n",
    "import utils\n",
    "import numpy as np\n",
    "\n",
    "from matplotlib import pyplot as plt\n",
    "from PIL import Image\n",
    "\n",
    "image = Image.open('./samples/Before.jpg')\n",
    "image_np = utils.load_image_into_numpy_array(image)\n",
    "category_index = utils.create_category_index_from_labelmap('./samples/label_map.pbtxt', use_display_name=True)\n",
    "\n",
    "utils.visualize_boxes_and_labels_on_image_array(\n",
    "    image_np,\n",
    "    np.array(results['detection_boxes']),\n",
    "    np.array(results['detection_classes']),\n",
    "    np.array(results['detection_scores']),\n",
    "    category_index,\n",
    "    instance_masks=results.get('detection_masks'),\n",
    "    use_normalized_coordinates=True,\n",
    "    line_thickness=8)\n",
    "\n",
    "os.chdir('..')\n",
    "\n",
    "plt.figure(figsize=(24, 16))\n",
    "plt.imshow(image_np)"
   ]
  },
  {
   "cell_type": "code",
   "execution_count": null,
   "metadata": {},
   "outputs": [],
   "source": []
  }
 ],
 "metadata": {
  "kernelspec": {
   "display_name": "Python 3",
   "language": "python",
   "name": "python3"
  },
  "language_info": {
   "codemirror_mode": {
    "name": "ipython",
    "version": 3
   },
   "file_extension": ".py",
   "mimetype": "text/x-python",
   "name": "python",
   "nbconvert_exporter": "python",
   "pygments_lexer": "ipython3",
   "version": "3.6.2"
  }
 },
 "nbformat": 4,
 "nbformat_minor": 2
}
